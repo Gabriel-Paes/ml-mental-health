{
  "nbformat": 4,
  "nbformat_minor": 0,
  "metadata": {
    "colab": {
      "provenance": [],
      "toc_visible": true,
      "include_colab_link": true
    },
    "kernelspec": {
      "name": "python3",
      "display_name": "Python 3"
    },
    "language_info": {
      "name": "python"
    }
  },
  "cells": [
    {
      "cell_type": "markdown",
      "metadata": {
        "id": "view-in-github",
        "colab_type": "text"
      },
      "source": [
        "<a href=\"https://colab.research.google.com/github/Gabriel-Paes/ml-mental-health/blob/main/A3_Mental_Heath_ML.ipynb\" target=\"_parent\"><img src=\"https://colab.research.google.com/assets/colab-badge.svg\" alt=\"Open In Colab\"/></a>"
      ]
    },
    {
      "cell_type": "markdown",
      "source": [
        "#**Projeto A3 - Inteligência Artificial**\n",
        "\n",
        "###**Projeto: Predição de hitorico de saude mental**\n",
        "\n",
        "---\n",
        "\n",
        "\n",
        "### **Introdução**\n",
        "\n",
        "Neste projeto, nosso objetivo é desenvolver um algoritmo de previsão de histórico de saúde mental utilizando técnicas de aprendizado de máquina. Especificamente, empregaremos o algoritmo de classificação Random Forest Classifier para analisar e prever padrões de saúde mental com base em dados fornecidos.\n",
        "\n",
        "A saúde mental é uma área de crescente importância na sociedade moderna, e a capacidade de prever problemas potenciais pode auxiliar na tomada de decisões proativas e na implementação de intervenções precoces. O Random Forest Classifier, com sua capacidade de manejar grandes volumes de dados e capturar relações complexas entre variáveis, é uma ferramenta robusta e apropriada para esta tarefa.\n",
        "\n",
        "No decorrer deste projeto, abordaremos as seguintes etapas:\n",
        "\n",
        "\n",
        "\n",
        "\n",
        "Estamos empolgados com o potencial deste projeto em contribuir para o campo da saúde mental e esperamos que nossos esforços resultem em um modelo útil e aplicável para prever e, eventualmente, melhorar a saúde mental de indivíduos.\n",
        "\n"
      ],
      "metadata": {
        "id": "C7uOoIqg20cw"
      }
    },
    {
      "cell_type": "markdown",
      "source": [
        "### **Importação das dependencias**\n",
        "\n",
        "Estamos ultilizando as bibliotecas:\n",
        "\n",
        "\n",
        "*   Pandas\n",
        "*   Numpy\n",
        "*   Seaborn\n",
        "*   Matplotlib\n",
        "*   Bibliotecas do sklearn\n",
        "\n"
      ],
      "metadata": {
        "id": "Lz8yFhc9G7h-"
      }
    },
    {
      "cell_type": "code",
      "execution_count": 158,
      "metadata": {
        "id": "pEYD3Li3ArMz"
      },
      "outputs": [],
      "source": [
        "import pandas as pd\n",
        "import numpy as np\n",
        "import seaborn as sns\n",
        "import matplotlib.pyplot as plt\n",
        "\n",
        "from sklearn.model_selection import train_test_split\n",
        "from sklearn.preprocessing import LabelEncoder\n",
        "from sklearn.ensemble import RandomForestClassifier\n",
        "from sklearn.metrics import accuracy_score, classification_report, confusion_matrix\n",
        "from sklearn.preprocessing import StandardScaler\n",
        "from sklearn.metrics import mean_squared_error\n",
        "from sklearn.metrics import accuracy_score, classification_report, confusion_matrix\n",
        "from sklearn.metrics import roc_curve, roc_auc_score\n",
        "\n"
      ]
    },
    {
      "cell_type": "markdown",
      "source": [
        "### **Dataset**\n",
        "\n",
        "Importamos a dataset **Mental Health Dataset** da plataforma KAGGLE.\n",
        "\n",
        "Link do dataset: https://www.kaggle.com/datasets/bhavikjikadara/mental-health-dataset/data\n"
      ],
      "metadata": {
        "id": "A0H-6CRN7i4J"
      }
    },
    {
      "cell_type": "code",
      "source": [
        "# Importando a dataset\n",
        "data = pd.read_csv('https://raw.githubusercontent.com/Gabriel-Paes/ml-mental-health/main/dataset/mental_health_dataset.csv')\n",
        "display(data)\n",
        "\n",
        "# Gerando uma copía do dataset para futuras aplicações\n",
        "dataset = data.copy()"
      ],
      "metadata": {
        "colab": {
          "base_uri": "https://localhost:8080/",
          "height": 423
        },
        "id": "1FjylqgZSksv",
        "outputId": "cab86ba5-c904-4330-ae1d-f539dc0b912f"
      },
      "execution_count": 159,
      "outputs": [
        {
          "output_type": "display_data",
          "data": {
            "text/plain": [
              "              Timestamp  Gender        Country Occupation self_employed  \\\n",
              "0       8/27/2014 11:29  Female  United States  Corporate           NaN   \n",
              "1       8/27/2014 11:31  Female  United States  Corporate           NaN   \n",
              "2       8/27/2014 11:32  Female  United States  Corporate           NaN   \n",
              "3       8/27/2014 11:37  Female  United States  Corporate            No   \n",
              "4       8/27/2014 11:43  Female  United States  Corporate            No   \n",
              "...                 ...     ...            ...        ...           ...   \n",
              "192359  8/27/2014 16:15    Male        Germany   Business            No   \n",
              "192360  8/27/2014 16:17    Male  United States   Business            No   \n",
              "192361  8/27/2014 16:21    Male  United States   Business           Yes   \n",
              "192362  8/27/2014 16:21    Male         Israel   Business            No   \n",
              "192363  8/27/2014 16:21    Male          Italy   Business            No   \n",
              "\n",
              "       family_history treatment        Days_Indoors Growing_Stress  \\\n",
              "0                  No       Yes           1-14 days            Yes   \n",
              "1                 Yes       Yes           1-14 days            Yes   \n",
              "2                 Yes       Yes           1-14 days            Yes   \n",
              "3                 Yes       Yes           1-14 days            Yes   \n",
              "4                 Yes       Yes           1-14 days            Yes   \n",
              "...               ...       ...                 ...            ...   \n",
              "192359            Yes       Yes  More than 2 months          Maybe   \n",
              "192360             No        No  More than 2 months          Maybe   \n",
              "192361            Yes       Yes  More than 2 months          Maybe   \n",
              "192362             No        No  More than 2 months          Maybe   \n",
              "192363             No        No  More than 2 months          Maybe   \n",
              "\n",
              "       Changes_Habits Mental_Health_History Mood_Swings Coping_Struggles  \\\n",
              "0                  No                   Yes      Medium               No   \n",
              "1                  No                   Yes      Medium               No   \n",
              "2                  No                   Yes      Medium               No   \n",
              "3                  No                   Yes      Medium               No   \n",
              "4                  No                   Yes      Medium               No   \n",
              "...               ...                   ...         ...              ...   \n",
              "192359          Maybe                    No        High              Yes   \n",
              "192360          Maybe                    No        High              Yes   \n",
              "192361          Maybe                    No        High              Yes   \n",
              "192362          Maybe                    No        High              Yes   \n",
              "192363          Maybe                    No        High              Yes   \n",
              "\n",
              "       Work_Interest Social_Weakness mental_health_interview care_options  \n",
              "0                 No             Yes                      No     Not sure  \n",
              "1                 No             Yes                      No           No  \n",
              "2                 No             Yes                      No          Yes  \n",
              "3                 No             Yes                   Maybe          Yes  \n",
              "4                 No             Yes                      No          Yes  \n",
              "...              ...             ...                     ...          ...  \n",
              "192359         Maybe             Yes                      No     Not sure  \n",
              "192360         Maybe             Yes                   Maybe     Not sure  \n",
              "192361         Maybe             Yes                      No          Yes  \n",
              "192362         Maybe             Yes                      No           No  \n",
              "192363         Maybe             Yes                      No           No  \n",
              "\n",
              "[192364 rows x 17 columns]"
            ],
            "text/html": [
              "\n",
              "  <div id=\"df-5ecfd633-8988-433e-8a94-a78f4156b9b2\" class=\"colab-df-container\">\n",
              "    <div>\n",
              "<style scoped>\n",
              "    .dataframe tbody tr th:only-of-type {\n",
              "        vertical-align: middle;\n",
              "    }\n",
              "\n",
              "    .dataframe tbody tr th {\n",
              "        vertical-align: top;\n",
              "    }\n",
              "\n",
              "    .dataframe thead th {\n",
              "        text-align: right;\n",
              "    }\n",
              "</style>\n",
              "<table border=\"1\" class=\"dataframe\">\n",
              "  <thead>\n",
              "    <tr style=\"text-align: right;\">\n",
              "      <th></th>\n",
              "      <th>Timestamp</th>\n",
              "      <th>Gender</th>\n",
              "      <th>Country</th>\n",
              "      <th>Occupation</th>\n",
              "      <th>self_employed</th>\n",
              "      <th>family_history</th>\n",
              "      <th>treatment</th>\n",
              "      <th>Days_Indoors</th>\n",
              "      <th>Growing_Stress</th>\n",
              "      <th>Changes_Habits</th>\n",
              "      <th>Mental_Health_History</th>\n",
              "      <th>Mood_Swings</th>\n",
              "      <th>Coping_Struggles</th>\n",
              "      <th>Work_Interest</th>\n",
              "      <th>Social_Weakness</th>\n",
              "      <th>mental_health_interview</th>\n",
              "      <th>care_options</th>\n",
              "    </tr>\n",
              "  </thead>\n",
              "  <tbody>\n",
              "    <tr>\n",
              "      <th>0</th>\n",
              "      <td>8/27/2014 11:29</td>\n",
              "      <td>Female</td>\n",
              "      <td>United States</td>\n",
              "      <td>Corporate</td>\n",
              "      <td>NaN</td>\n",
              "      <td>No</td>\n",
              "      <td>Yes</td>\n",
              "      <td>1-14 days</td>\n",
              "      <td>Yes</td>\n",
              "      <td>No</td>\n",
              "      <td>Yes</td>\n",
              "      <td>Medium</td>\n",
              "      <td>No</td>\n",
              "      <td>No</td>\n",
              "      <td>Yes</td>\n",
              "      <td>No</td>\n",
              "      <td>Not sure</td>\n",
              "    </tr>\n",
              "    <tr>\n",
              "      <th>1</th>\n",
              "      <td>8/27/2014 11:31</td>\n",
              "      <td>Female</td>\n",
              "      <td>United States</td>\n",
              "      <td>Corporate</td>\n",
              "      <td>NaN</td>\n",
              "      <td>Yes</td>\n",
              "      <td>Yes</td>\n",
              "      <td>1-14 days</td>\n",
              "      <td>Yes</td>\n",
              "      <td>No</td>\n",
              "      <td>Yes</td>\n",
              "      <td>Medium</td>\n",
              "      <td>No</td>\n",
              "      <td>No</td>\n",
              "      <td>Yes</td>\n",
              "      <td>No</td>\n",
              "      <td>No</td>\n",
              "    </tr>\n",
              "    <tr>\n",
              "      <th>2</th>\n",
              "      <td>8/27/2014 11:32</td>\n",
              "      <td>Female</td>\n",
              "      <td>United States</td>\n",
              "      <td>Corporate</td>\n",
              "      <td>NaN</td>\n",
              "      <td>Yes</td>\n",
              "      <td>Yes</td>\n",
              "      <td>1-14 days</td>\n",
              "      <td>Yes</td>\n",
              "      <td>No</td>\n",
              "      <td>Yes</td>\n",
              "      <td>Medium</td>\n",
              "      <td>No</td>\n",
              "      <td>No</td>\n",
              "      <td>Yes</td>\n",
              "      <td>No</td>\n",
              "      <td>Yes</td>\n",
              "    </tr>\n",
              "    <tr>\n",
              "      <th>3</th>\n",
              "      <td>8/27/2014 11:37</td>\n",
              "      <td>Female</td>\n",
              "      <td>United States</td>\n",
              "      <td>Corporate</td>\n",
              "      <td>No</td>\n",
              "      <td>Yes</td>\n",
              "      <td>Yes</td>\n",
              "      <td>1-14 days</td>\n",
              "      <td>Yes</td>\n",
              "      <td>No</td>\n",
              "      <td>Yes</td>\n",
              "      <td>Medium</td>\n",
              "      <td>No</td>\n",
              "      <td>No</td>\n",
              "      <td>Yes</td>\n",
              "      <td>Maybe</td>\n",
              "      <td>Yes</td>\n",
              "    </tr>\n",
              "    <tr>\n",
              "      <th>4</th>\n",
              "      <td>8/27/2014 11:43</td>\n",
              "      <td>Female</td>\n",
              "      <td>United States</td>\n",
              "      <td>Corporate</td>\n",
              "      <td>No</td>\n",
              "      <td>Yes</td>\n",
              "      <td>Yes</td>\n",
              "      <td>1-14 days</td>\n",
              "      <td>Yes</td>\n",
              "      <td>No</td>\n",
              "      <td>Yes</td>\n",
              "      <td>Medium</td>\n",
              "      <td>No</td>\n",
              "      <td>No</td>\n",
              "      <td>Yes</td>\n",
              "      <td>No</td>\n",
              "      <td>Yes</td>\n",
              "    </tr>\n",
              "    <tr>\n",
              "      <th>...</th>\n",
              "      <td>...</td>\n",
              "      <td>...</td>\n",
              "      <td>...</td>\n",
              "      <td>...</td>\n",
              "      <td>...</td>\n",
              "      <td>...</td>\n",
              "      <td>...</td>\n",
              "      <td>...</td>\n",
              "      <td>...</td>\n",
              "      <td>...</td>\n",
              "      <td>...</td>\n",
              "      <td>...</td>\n",
              "      <td>...</td>\n",
              "      <td>...</td>\n",
              "      <td>...</td>\n",
              "      <td>...</td>\n",
              "      <td>...</td>\n",
              "    </tr>\n",
              "    <tr>\n",
              "      <th>192359</th>\n",
              "      <td>8/27/2014 16:15</td>\n",
              "      <td>Male</td>\n",
              "      <td>Germany</td>\n",
              "      <td>Business</td>\n",
              "      <td>No</td>\n",
              "      <td>Yes</td>\n",
              "      <td>Yes</td>\n",
              "      <td>More than 2 months</td>\n",
              "      <td>Maybe</td>\n",
              "      <td>Maybe</td>\n",
              "      <td>No</td>\n",
              "      <td>High</td>\n",
              "      <td>Yes</td>\n",
              "      <td>Maybe</td>\n",
              "      <td>Yes</td>\n",
              "      <td>No</td>\n",
              "      <td>Not sure</td>\n",
              "    </tr>\n",
              "    <tr>\n",
              "      <th>192360</th>\n",
              "      <td>8/27/2014 16:17</td>\n",
              "      <td>Male</td>\n",
              "      <td>United States</td>\n",
              "      <td>Business</td>\n",
              "      <td>No</td>\n",
              "      <td>No</td>\n",
              "      <td>No</td>\n",
              "      <td>More than 2 months</td>\n",
              "      <td>Maybe</td>\n",
              "      <td>Maybe</td>\n",
              "      <td>No</td>\n",
              "      <td>High</td>\n",
              "      <td>Yes</td>\n",
              "      <td>Maybe</td>\n",
              "      <td>Yes</td>\n",
              "      <td>Maybe</td>\n",
              "      <td>Not sure</td>\n",
              "    </tr>\n",
              "    <tr>\n",
              "      <th>192361</th>\n",
              "      <td>8/27/2014 16:21</td>\n",
              "      <td>Male</td>\n",
              "      <td>United States</td>\n",
              "      <td>Business</td>\n",
              "      <td>Yes</td>\n",
              "      <td>Yes</td>\n",
              "      <td>Yes</td>\n",
              "      <td>More than 2 months</td>\n",
              "      <td>Maybe</td>\n",
              "      <td>Maybe</td>\n",
              "      <td>No</td>\n",
              "      <td>High</td>\n",
              "      <td>Yes</td>\n",
              "      <td>Maybe</td>\n",
              "      <td>Yes</td>\n",
              "      <td>No</td>\n",
              "      <td>Yes</td>\n",
              "    </tr>\n",
              "    <tr>\n",
              "      <th>192362</th>\n",
              "      <td>8/27/2014 16:21</td>\n",
              "      <td>Male</td>\n",
              "      <td>Israel</td>\n",
              "      <td>Business</td>\n",
              "      <td>No</td>\n",
              "      <td>No</td>\n",
              "      <td>No</td>\n",
              "      <td>More than 2 months</td>\n",
              "      <td>Maybe</td>\n",
              "      <td>Maybe</td>\n",
              "      <td>No</td>\n",
              "      <td>High</td>\n",
              "      <td>Yes</td>\n",
              "      <td>Maybe</td>\n",
              "      <td>Yes</td>\n",
              "      <td>No</td>\n",
              "      <td>No</td>\n",
              "    </tr>\n",
              "    <tr>\n",
              "      <th>192363</th>\n",
              "      <td>8/27/2014 16:21</td>\n",
              "      <td>Male</td>\n",
              "      <td>Italy</td>\n",
              "      <td>Business</td>\n",
              "      <td>No</td>\n",
              "      <td>No</td>\n",
              "      <td>No</td>\n",
              "      <td>More than 2 months</td>\n",
              "      <td>Maybe</td>\n",
              "      <td>Maybe</td>\n",
              "      <td>No</td>\n",
              "      <td>High</td>\n",
              "      <td>Yes</td>\n",
              "      <td>Maybe</td>\n",
              "      <td>Yes</td>\n",
              "      <td>No</td>\n",
              "      <td>No</td>\n",
              "    </tr>\n",
              "  </tbody>\n",
              "</table>\n",
              "<p>192364 rows × 17 columns</p>\n",
              "</div>\n",
              "    <div class=\"colab-df-buttons\">\n",
              "\n",
              "  <div class=\"colab-df-container\">\n",
              "    <button class=\"colab-df-convert\" onclick=\"convertToInteractive('df-5ecfd633-8988-433e-8a94-a78f4156b9b2')\"\n",
              "            title=\"Convert this dataframe to an interactive table.\"\n",
              "            style=\"display:none;\">\n",
              "\n",
              "  <svg xmlns=\"http://www.w3.org/2000/svg\" height=\"24px\" viewBox=\"0 -960 960 960\">\n",
              "    <path d=\"M120-120v-720h720v720H120Zm60-500h600v-160H180v160Zm220 220h160v-160H400v160Zm0 220h160v-160H400v160ZM180-400h160v-160H180v160Zm440 0h160v-160H620v160ZM180-180h160v-160H180v160Zm440 0h160v-160H620v160Z\"/>\n",
              "  </svg>\n",
              "    </button>\n",
              "\n",
              "  <style>\n",
              "    .colab-df-container {\n",
              "      display:flex;\n",
              "      gap: 12px;\n",
              "    }\n",
              "\n",
              "    .colab-df-convert {\n",
              "      background-color: #E8F0FE;\n",
              "      border: none;\n",
              "      border-radius: 50%;\n",
              "      cursor: pointer;\n",
              "      display: none;\n",
              "      fill: #1967D2;\n",
              "      height: 32px;\n",
              "      padding: 0 0 0 0;\n",
              "      width: 32px;\n",
              "    }\n",
              "\n",
              "    .colab-df-convert:hover {\n",
              "      background-color: #E2EBFA;\n",
              "      box-shadow: 0px 1px 2px rgba(60, 64, 67, 0.3), 0px 1px 3px 1px rgba(60, 64, 67, 0.15);\n",
              "      fill: #174EA6;\n",
              "    }\n",
              "\n",
              "    .colab-df-buttons div {\n",
              "      margin-bottom: 4px;\n",
              "    }\n",
              "\n",
              "    [theme=dark] .colab-df-convert {\n",
              "      background-color: #3B4455;\n",
              "      fill: #D2E3FC;\n",
              "    }\n",
              "\n",
              "    [theme=dark] .colab-df-convert:hover {\n",
              "      background-color: #434B5C;\n",
              "      box-shadow: 0px 1px 3px 1px rgba(0, 0, 0, 0.15);\n",
              "      filter: drop-shadow(0px 1px 2px rgba(0, 0, 0, 0.3));\n",
              "      fill: #FFFFFF;\n",
              "    }\n",
              "  </style>\n",
              "\n",
              "    <script>\n",
              "      const buttonEl =\n",
              "        document.querySelector('#df-5ecfd633-8988-433e-8a94-a78f4156b9b2 button.colab-df-convert');\n",
              "      buttonEl.style.display =\n",
              "        google.colab.kernel.accessAllowed ? 'block' : 'none';\n",
              "\n",
              "      async function convertToInteractive(key) {\n",
              "        const element = document.querySelector('#df-5ecfd633-8988-433e-8a94-a78f4156b9b2');\n",
              "        const dataTable =\n",
              "          await google.colab.kernel.invokeFunction('convertToInteractive',\n",
              "                                                    [key], {});\n",
              "        if (!dataTable) return;\n",
              "\n",
              "        const docLinkHtml = 'Like what you see? Visit the ' +\n",
              "          '<a target=\"_blank\" href=https://colab.research.google.com/notebooks/data_table.ipynb>data table notebook</a>'\n",
              "          + ' to learn more about interactive tables.';\n",
              "        element.innerHTML = '';\n",
              "        dataTable['output_type'] = 'display_data';\n",
              "        await google.colab.output.renderOutput(dataTable, element);\n",
              "        const docLink = document.createElement('div');\n",
              "        docLink.innerHTML = docLinkHtml;\n",
              "        element.appendChild(docLink);\n",
              "      }\n",
              "    </script>\n",
              "  </div>\n",
              "\n",
              "\n",
              "<div id=\"df-1d1ee0d3-a32b-4332-aadd-2cd01ad4a37a\">\n",
              "  <button class=\"colab-df-quickchart\" onclick=\"quickchart('df-1d1ee0d3-a32b-4332-aadd-2cd01ad4a37a')\"\n",
              "            title=\"Suggest charts\"\n",
              "            style=\"display:none;\">\n",
              "\n",
              "<svg xmlns=\"http://www.w3.org/2000/svg\" height=\"24px\"viewBox=\"0 0 24 24\"\n",
              "     width=\"24px\">\n",
              "    <g>\n",
              "        <path d=\"M19 3H5c-1.1 0-2 .9-2 2v14c0 1.1.9 2 2 2h14c1.1 0 2-.9 2-2V5c0-1.1-.9-2-2-2zM9 17H7v-7h2v7zm4 0h-2V7h2v10zm4 0h-2v-4h2v4z\"/>\n",
              "    </g>\n",
              "</svg>\n",
              "  </button>\n",
              "\n",
              "<style>\n",
              "  .colab-df-quickchart {\n",
              "      --bg-color: #E8F0FE;\n",
              "      --fill-color: #1967D2;\n",
              "      --hover-bg-color: #E2EBFA;\n",
              "      --hover-fill-color: #174EA6;\n",
              "      --disabled-fill-color: #AAA;\n",
              "      --disabled-bg-color: #DDD;\n",
              "  }\n",
              "\n",
              "  [theme=dark] .colab-df-quickchart {\n",
              "      --bg-color: #3B4455;\n",
              "      --fill-color: #D2E3FC;\n",
              "      --hover-bg-color: #434B5C;\n",
              "      --hover-fill-color: #FFFFFF;\n",
              "      --disabled-bg-color: #3B4455;\n",
              "      --disabled-fill-color: #666;\n",
              "  }\n",
              "\n",
              "  .colab-df-quickchart {\n",
              "    background-color: var(--bg-color);\n",
              "    border: none;\n",
              "    border-radius: 50%;\n",
              "    cursor: pointer;\n",
              "    display: none;\n",
              "    fill: var(--fill-color);\n",
              "    height: 32px;\n",
              "    padding: 0;\n",
              "    width: 32px;\n",
              "  }\n",
              "\n",
              "  .colab-df-quickchart:hover {\n",
              "    background-color: var(--hover-bg-color);\n",
              "    box-shadow: 0 1px 2px rgba(60, 64, 67, 0.3), 0 1px 3px 1px rgba(60, 64, 67, 0.15);\n",
              "    fill: var(--button-hover-fill-color);\n",
              "  }\n",
              "\n",
              "  .colab-df-quickchart-complete:disabled,\n",
              "  .colab-df-quickchart-complete:disabled:hover {\n",
              "    background-color: var(--disabled-bg-color);\n",
              "    fill: var(--disabled-fill-color);\n",
              "    box-shadow: none;\n",
              "  }\n",
              "\n",
              "  .colab-df-spinner {\n",
              "    border: 2px solid var(--fill-color);\n",
              "    border-color: transparent;\n",
              "    border-bottom-color: var(--fill-color);\n",
              "    animation:\n",
              "      spin 1s steps(1) infinite;\n",
              "  }\n",
              "\n",
              "  @keyframes spin {\n",
              "    0% {\n",
              "      border-color: transparent;\n",
              "      border-bottom-color: var(--fill-color);\n",
              "      border-left-color: var(--fill-color);\n",
              "    }\n",
              "    20% {\n",
              "      border-color: transparent;\n",
              "      border-left-color: var(--fill-color);\n",
              "      border-top-color: var(--fill-color);\n",
              "    }\n",
              "    30% {\n",
              "      border-color: transparent;\n",
              "      border-left-color: var(--fill-color);\n",
              "      border-top-color: var(--fill-color);\n",
              "      border-right-color: var(--fill-color);\n",
              "    }\n",
              "    40% {\n",
              "      border-color: transparent;\n",
              "      border-right-color: var(--fill-color);\n",
              "      border-top-color: var(--fill-color);\n",
              "    }\n",
              "    60% {\n",
              "      border-color: transparent;\n",
              "      border-right-color: var(--fill-color);\n",
              "    }\n",
              "    80% {\n",
              "      border-color: transparent;\n",
              "      border-right-color: var(--fill-color);\n",
              "      border-bottom-color: var(--fill-color);\n",
              "    }\n",
              "    90% {\n",
              "      border-color: transparent;\n",
              "      border-bottom-color: var(--fill-color);\n",
              "    }\n",
              "  }\n",
              "</style>\n",
              "\n",
              "  <script>\n",
              "    async function quickchart(key) {\n",
              "      const quickchartButtonEl =\n",
              "        document.querySelector('#' + key + ' button');\n",
              "      quickchartButtonEl.disabled = true;  // To prevent multiple clicks.\n",
              "      quickchartButtonEl.classList.add('colab-df-spinner');\n",
              "      try {\n",
              "        const charts = await google.colab.kernel.invokeFunction(\n",
              "            'suggestCharts', [key], {});\n",
              "      } catch (error) {\n",
              "        console.error('Error during call to suggestCharts:', error);\n",
              "      }\n",
              "      quickchartButtonEl.classList.remove('colab-df-spinner');\n",
              "      quickchartButtonEl.classList.add('colab-df-quickchart-complete');\n",
              "    }\n",
              "    (() => {\n",
              "      let quickchartButtonEl =\n",
              "        document.querySelector('#df-1d1ee0d3-a32b-4332-aadd-2cd01ad4a37a button');\n",
              "      quickchartButtonEl.style.display =\n",
              "        google.colab.kernel.accessAllowed ? 'block' : 'none';\n",
              "    })();\n",
              "  </script>\n",
              "</div>\n",
              "\n",
              "  <div id=\"id_f3149bd0-f3dc-4e82-a216-9ce862c81048\">\n",
              "    <style>\n",
              "      .colab-df-generate {\n",
              "        background-color: #E8F0FE;\n",
              "        border: none;\n",
              "        border-radius: 50%;\n",
              "        cursor: pointer;\n",
              "        display: none;\n",
              "        fill: #1967D2;\n",
              "        height: 32px;\n",
              "        padding: 0 0 0 0;\n",
              "        width: 32px;\n",
              "      }\n",
              "\n",
              "      .colab-df-generate:hover {\n",
              "        background-color: #E2EBFA;\n",
              "        box-shadow: 0px 1px 2px rgba(60, 64, 67, 0.3), 0px 1px 3px 1px rgba(60, 64, 67, 0.15);\n",
              "        fill: #174EA6;\n",
              "      }\n",
              "\n",
              "      [theme=dark] .colab-df-generate {\n",
              "        background-color: #3B4455;\n",
              "        fill: #D2E3FC;\n",
              "      }\n",
              "\n",
              "      [theme=dark] .colab-df-generate:hover {\n",
              "        background-color: #434B5C;\n",
              "        box-shadow: 0px 1px 3px 1px rgba(0, 0, 0, 0.15);\n",
              "        filter: drop-shadow(0px 1px 2px rgba(0, 0, 0, 0.3));\n",
              "        fill: #FFFFFF;\n",
              "      }\n",
              "    </style>\n",
              "    <button class=\"colab-df-generate\" onclick=\"generateWithVariable('data')\"\n",
              "            title=\"Generate code using this dataframe.\"\n",
              "            style=\"display:none;\">\n",
              "\n",
              "  <svg xmlns=\"http://www.w3.org/2000/svg\" height=\"24px\"viewBox=\"0 0 24 24\"\n",
              "       width=\"24px\">\n",
              "    <path d=\"M7,19H8.4L18.45,9,17,7.55,7,17.6ZM5,21V16.75L18.45,3.32a2,2,0,0,1,2.83,0l1.4,1.43a1.91,1.91,0,0,1,.58,1.4,1.91,1.91,0,0,1-.58,1.4L9.25,21ZM18.45,9,17,7.55Zm-12,3A5.31,5.31,0,0,0,4.9,8.1,5.31,5.31,0,0,0,1,6.5,5.31,5.31,0,0,0,4.9,4.9,5.31,5.31,0,0,0,6.5,1,5.31,5.31,0,0,0,8.1,4.9,5.31,5.31,0,0,0,12,6.5,5.46,5.46,0,0,0,6.5,12Z\"/>\n",
              "  </svg>\n",
              "    </button>\n",
              "    <script>\n",
              "      (() => {\n",
              "      const buttonEl =\n",
              "        document.querySelector('#id_f3149bd0-f3dc-4e82-a216-9ce862c81048 button.colab-df-generate');\n",
              "      buttonEl.style.display =\n",
              "        google.colab.kernel.accessAllowed ? 'block' : 'none';\n",
              "\n",
              "      buttonEl.onclick = () => {\n",
              "        google.colab.notebook.generateWithVariable('data');\n",
              "      }\n",
              "      })();\n",
              "    </script>\n",
              "  </div>\n",
              "\n",
              "    </div>\n",
              "  </div>\n"
            ],
            "application/vnd.google.colaboratory.intrinsic+json": {
              "type": "dataframe",
              "variable_name": "data"
            }
          },
          "metadata": {}
        }
      ]
    },
    {
      "cell_type": "code",
      "source": [
        "# Converta colunas categóricas em valores numéricos\n",
        "label_encoders = {}\n",
        "for column in data.columns:\n",
        "    if data[column].dtype == 'object':\n",
        "        label_encoders[column] = LabelEncoder()\n",
        "        data[column] = label_encoders[column].fit_transform(data[column])\n",
        "\n",
        "# 0 = Talvez\n",
        "# 1 = Não\n",
        "# 2 = Sim"
      ],
      "metadata": {
        "id": "Pz1D8LBqSubC"
      },
      "execution_count": 161,
      "outputs": []
    },
    {
      "cell_type": "code",
      "source": [
        "# Definir as features (X) e o target (y)\n",
        "target = 'Mental_Health_History'\n",
        "X = data.drop(target, axis=1)\n",
        "y = data[target]"
      ],
      "metadata": {
        "id": "3cC8xOMvSuje"
      },
      "execution_count": 162,
      "outputs": []
    },
    {
      "cell_type": "code",
      "source": [
        "# Dividir o dataset em conjuntos de treinamento e teste\n",
        "X_train, X_test, y_train, y_test = train_test_split(X, y, test_size=0.3, random_state=42)"
      ],
      "metadata": {
        "id": "uzdtBW2LSuoC"
      },
      "execution_count": 163,
      "outputs": []
    },
    {
      "cell_type": "code",
      "source": [
        "# Pré-processamento dos dados\n",
        "scaler = StandardScaler()\n",
        "X_train_scaled = scaler.fit_transform(X_train)\n",
        "X_test_scaled = scaler.transform(X_test)"
      ],
      "metadata": {
        "id": "rw3522uVYAsk"
      },
      "execution_count": 164,
      "outputs": []
    },
    {
      "cell_type": "markdown",
      "source": [
        "###**Treinamento do modelo**\n",
        "\n",
        "Utilizaremos o Random Forest Classifier para treinar um modelo preditivo com base nos dados preparados."
      ],
      "metadata": {
        "id": "k0LYv8cU74ck"
      }
    },
    {
      "cell_type": "code",
      "source": [
        "# Treinar um modelo de Random Forest\n",
        "model = RandomForestClassifier(random_state=42)\n",
        "model.fit(X_train, y_train)\n"
      ],
      "metadata": {
        "id": "d1GVIw80Surz",
        "colab": {
          "base_uri": "https://localhost:8080/",
          "height": 75
        },
        "outputId": "cbf4587e-c4a0-4cfa-eaa1-55efbfd8f80e"
      },
      "execution_count": 165,
      "outputs": [
        {
          "output_type": "execute_result",
          "data": {
            "text/plain": [
              "RandomForestClassifier(random_state=42)"
            ],
            "text/html": [
              "<style>#sk-container-id-8 {color: black;background-color: white;}#sk-container-id-8 pre{padding: 0;}#sk-container-id-8 div.sk-toggleable {background-color: white;}#sk-container-id-8 label.sk-toggleable__label {cursor: pointer;display: block;width: 100%;margin-bottom: 0;padding: 0.3em;box-sizing: border-box;text-align: center;}#sk-container-id-8 label.sk-toggleable__label-arrow:before {content: \"▸\";float: left;margin-right: 0.25em;color: #696969;}#sk-container-id-8 label.sk-toggleable__label-arrow:hover:before {color: black;}#sk-container-id-8 div.sk-estimator:hover label.sk-toggleable__label-arrow:before {color: black;}#sk-container-id-8 div.sk-toggleable__content {max-height: 0;max-width: 0;overflow: hidden;text-align: left;background-color: #f0f8ff;}#sk-container-id-8 div.sk-toggleable__content pre {margin: 0.2em;color: black;border-radius: 0.25em;background-color: #f0f8ff;}#sk-container-id-8 input.sk-toggleable__control:checked~div.sk-toggleable__content {max-height: 200px;max-width: 100%;overflow: auto;}#sk-container-id-8 input.sk-toggleable__control:checked~label.sk-toggleable__label-arrow:before {content: \"▾\";}#sk-container-id-8 div.sk-estimator input.sk-toggleable__control:checked~label.sk-toggleable__label {background-color: #d4ebff;}#sk-container-id-8 div.sk-label input.sk-toggleable__control:checked~label.sk-toggleable__label {background-color: #d4ebff;}#sk-container-id-8 input.sk-hidden--visually {border: 0;clip: rect(1px 1px 1px 1px);clip: rect(1px, 1px, 1px, 1px);height: 1px;margin: -1px;overflow: hidden;padding: 0;position: absolute;width: 1px;}#sk-container-id-8 div.sk-estimator {font-family: monospace;background-color: #f0f8ff;border: 1px dotted black;border-radius: 0.25em;box-sizing: border-box;margin-bottom: 0.5em;}#sk-container-id-8 div.sk-estimator:hover {background-color: #d4ebff;}#sk-container-id-8 div.sk-parallel-item::after {content: \"\";width: 100%;border-bottom: 1px solid gray;flex-grow: 1;}#sk-container-id-8 div.sk-label:hover label.sk-toggleable__label {background-color: #d4ebff;}#sk-container-id-8 div.sk-serial::before {content: \"\";position: absolute;border-left: 1px solid gray;box-sizing: border-box;top: 0;bottom: 0;left: 50%;z-index: 0;}#sk-container-id-8 div.sk-serial {display: flex;flex-direction: column;align-items: center;background-color: white;padding-right: 0.2em;padding-left: 0.2em;position: relative;}#sk-container-id-8 div.sk-item {position: relative;z-index: 1;}#sk-container-id-8 div.sk-parallel {display: flex;align-items: stretch;justify-content: center;background-color: white;position: relative;}#sk-container-id-8 div.sk-item::before, #sk-container-id-8 div.sk-parallel-item::before {content: \"\";position: absolute;border-left: 1px solid gray;box-sizing: border-box;top: 0;bottom: 0;left: 50%;z-index: -1;}#sk-container-id-8 div.sk-parallel-item {display: flex;flex-direction: column;z-index: 1;position: relative;background-color: white;}#sk-container-id-8 div.sk-parallel-item:first-child::after {align-self: flex-end;width: 50%;}#sk-container-id-8 div.sk-parallel-item:last-child::after {align-self: flex-start;width: 50%;}#sk-container-id-8 div.sk-parallel-item:only-child::after {width: 0;}#sk-container-id-8 div.sk-dashed-wrapped {border: 1px dashed gray;margin: 0 0.4em 0.5em 0.4em;box-sizing: border-box;padding-bottom: 0.4em;background-color: white;}#sk-container-id-8 div.sk-label label {font-family: monospace;font-weight: bold;display: inline-block;line-height: 1.2em;}#sk-container-id-8 div.sk-label-container {text-align: center;}#sk-container-id-8 div.sk-container {/* jupyter's `normalize.less` sets `[hidden] { display: none; }` but bootstrap.min.css set `[hidden] { display: none !important; }` so we also need the `!important` here to be able to override the default hidden behavior on the sphinx rendered scikit-learn.org. See: https://github.com/scikit-learn/scikit-learn/issues/21755 */display: inline-block !important;position: relative;}#sk-container-id-8 div.sk-text-repr-fallback {display: none;}</style><div id=\"sk-container-id-8\" class=\"sk-top-container\"><div class=\"sk-text-repr-fallback\"><pre>RandomForestClassifier(random_state=42)</pre><b>In a Jupyter environment, please rerun this cell to show the HTML representation or trust the notebook. <br />On GitHub, the HTML representation is unable to render, please try loading this page with nbviewer.org.</b></div><div class=\"sk-container\" hidden><div class=\"sk-item\"><div class=\"sk-estimator sk-toggleable\"><input class=\"sk-toggleable__control sk-hidden--visually\" id=\"sk-estimator-id-8\" type=\"checkbox\" checked><label for=\"sk-estimator-id-8\" class=\"sk-toggleable__label sk-toggleable__label-arrow\">RandomForestClassifier</label><div class=\"sk-toggleable__content\"><pre>RandomForestClassifier(random_state=42)</pre></div></div></div></div></div>"
            ]
          },
          "metadata": {},
          "execution_count": 165
        }
      ]
    },
    {
      "cell_type": "code",
      "source": [
        "# Fazer predições no conjunto de teste\n",
        "y_pred = model.predict(X_test)"
      ],
      "metadata": {
        "id": "6t9JQY_HSuuf"
      },
      "execution_count": 166,
      "outputs": []
    },
    {
      "cell_type": "markdown",
      "source": [
        "###**Avaliação do Modelo**\n",
        "\n",
        "Avaliaremos o desempenho do modelo utilizando métricas apropriadas para garantir sua eficácia.\n"
      ],
      "metadata": {
        "id": "q99SQCQZFAMw"
      }
    },
    {
      "cell_type": "code",
      "source": [
        "# Avaliar o modelo\n",
        "accuracy = accuracy_score(y_test, y_pred)\n",
        "print(f'Acurácia: {accuracy}')\n",
        "print('Relatório de Classificação:')\n",
        "print(classification_report(y_test, y_pred))"
      ],
      "metadata": {
        "id": "yrkJWEKHSvJ6",
        "colab": {
          "base_uri": "https://localhost:8080/"
        },
        "outputId": "5abde90d-5fc3-40f8-fce4-9a6dc0ab56a5"
      },
      "execution_count": 167,
      "outputs": [
        {
          "output_type": "stream",
          "name": "stdout",
          "text": [
            "Acurácia: 0.9816322994281753\n",
            "Relatório de Classificação:\n",
            "              precision    recall  f1-score   support\n",
            "\n",
            "           0       0.98      0.98      0.98     20270\n",
            "           1       0.99      0.99      0.99     18777\n",
            "           2       0.97      0.97      0.97     18663\n",
            "\n",
            "    accuracy                           0.98     57710\n",
            "   macro avg       0.98      0.98      0.98     57710\n",
            "weighted avg       0.98      0.98      0.98     57710\n",
            "\n"
          ]
        }
      ]
    },
    {
      "cell_type": "code",
      "source": [
        "# Selecionando um subconjunto aleatório de 1000 amostras de teste\n",
        "indices = np.random.choice(len(y_test), size=1000, replace=False)\n",
        "y_test_subset = y_test.sample(n=1000)\n",
        "y_pred_subset = y_pred[indices]"
      ],
      "metadata": {
        "id": "cF7flESLa8u0"
      },
      "execution_count": 168,
      "outputs": []
    },
    {
      "cell_type": "markdown",
      "source": [
        "###**Análise de Dados: Graficos**\n",
        "\n",
        "Analisaremos os dados e geraremos graficos para entender melhor as características e relações presentes."
      ],
      "metadata": {
        "id": "bzAUNHFUD6oI"
      }
    },
    {
      "cell_type": "markdown",
      "source": [
        "#### **Matriz de confusão**"
      ],
      "metadata": {
        "id": "XKQtehuULo06"
      }
    },
    {
      "cell_type": "code",
      "source": [
        "# Calculando a matriz de confusão\n",
        "cm = confusion_matrix(y_test, y_pred)\n",
        "\n",
        "# Obtendo os valores da matriz de confusão\n",
        "#tn, fp, fn, tp = cm.ravel()\n",
        "\n",
        "# Plotando a matriz de confusão\n",
        "sns.heatmap(cm, annot=True, fmt='d', cmap='Blues', cbar=False, square=True)\n",
        "plt.xlabel('Valor Previsto')\n",
        "plt.ylabel('Valor Real')\n",
        "plt.title('Matriz de Confusão')\n",
        "plt.show()\n",
        "\n",
        "# Exibindo a acurácia\n",
        "print('Acurácia:', accuracy)"
      ],
      "metadata": {
        "id": "RFoL4wqubmgu",
        "colab": {
          "base_uri": "https://localhost:8080/",
          "height": 489
        },
        "outputId": "af0aa008-2635-41c7-f250-8a89b4245fbf"
      },
      "execution_count": 169,
      "outputs": [
        {
          "output_type": "display_data",
          "data": {
            "text/plain": [
              "<Figure size 640x480 with 1 Axes>"
            ],
            "image/png": "[encoded data removed]"
          },
          "metadata": {}
        },
        {
          "output_type": "stream",
          "name": "stdout",
          "text": [
            "Acurácia: 0.9816322994281753\n"
          ]
        }
      ]
    },
    {
      "cell_type": "markdown",
      "source": [
        "#### **Importância das features**"
      ],
      "metadata": {
        "id": "a1odPh0SL3b2"
      }
    },
    {
      "cell_type": "code",
      "source": [
        "import matplotlib.pyplot as plt\n",
        "import seaborn as sns\n",
        "\n",
        "# Importância das features\n",
        "importances = model.feature_importances_\n",
        "feature_names = X.columns\n",
        "\n",
        "# Criar um DataFrame para visualização\n",
        "feature_importance_df = pd.DataFrame({'Feature': feature_names, 'Importance': importances})\n",
        "feature_importance_df = feature_importance_df.sort_values(by='Importance', ascending=False)\n",
        "\n",
        "# Plotar a importância das features\n",
        "plt.figure(figsize=(10, 6))\n",
        "sns.barplot(x='Importance', y='Feature', data=feature_importance_df)\n",
        "plt.title('Importância das Features')\n",
        "plt.show()\n"
      ],
      "metadata": {
        "colab": {
          "base_uri": "https://localhost:8080/",
          "height": 565
        },
        "id": "sm_HuV9-LPZB",
        "outputId": "5588c5e0-9f46-4cb1-cc2f-856238eb086d"
      },
      "execution_count": 170,
      "outputs": [
        {
          "output_type": "display_data",
          "data": {
            "text/plain": [
              "<Figure size 1000x600 with 1 Axes>"
            ],
            "image/png": "[encoded data removed]"
          },
          "metadata": {}
        }
      ]
    },
    {
      "cell_type": "markdown",
      "source": [
        "#### **Curva de aprendizado**\n",
        "\n",
        "05 Minutos para plotar\n"
      ],
      "metadata": {
        "id": "GFrPENwwMt-R"
      }
    },
    {
      "cell_type": "code",
      "source": [
        "from sklearn.model_selection import learning_curve\n",
        "\n",
        "# Calcular a curva de aprendizado\n",
        "train_sizes, train_scores, test_scores = learning_curve(model, X_train, y_train, cv=5, n_jobs=-1, train_sizes=np.linspace(0.1, 1.0, 10))\n",
        "\n",
        "# Calcular média e desvio padrão dos scores\n",
        "train_mean = np.mean(train_scores, axis=1)\n",
        "train_std = np.std(train_scores, axis=1)\n",
        "test_mean = np.mean(test_scores, axis=1)\n",
        "test_std = np.std(test_scores, axis=1)\n",
        "\n",
        "# Plotar a curva de aprendizado\n",
        "plt.figure(figsize=(10, 6))\n",
        "plt.plot(train_sizes, train_mean, 'o-', color='r', label='Acurácia no Treinamento')\n",
        "plt.plot(train_sizes, test_mean, 'o-', color='g', label='Acurácia na Validação')\n",
        "plt.fill_between(train_sizes, train_mean - train_std, train_mean + train_std, alpha=0.1, color='r')\n",
        "plt.fill_between(train_sizes, test_mean - test_std, test_mean + test_std, alpha=0.1, color='g')\n",
        "plt.xlabel('Tamanho do Conjunto de Treinamento')\n",
        "plt.ylabel('Acurácia')\n",
        "plt.title('Curva de Aprendizado')\n",
        "plt.legend(loc='best')\n",
        "plt.show()\n"
      ],
      "metadata": {
        "colab": {
          "base_uri": "https://localhost:8080/",
          "height": 564
        },
        "id": "6H4EBReoMuEH",
        "outputId": "a9b026a6-c0e8-4637-c668-70b8801465ce"
      },
      "execution_count": null,
      "outputs": [
        {
          "output_type": "display_data",
          "data": {
            "text/plain": [
              "<Figure size 1000x600 with 1 Axes>"
            ],
            "image/png": "[encoded data removed]"
          },
          "metadata": {}
        }
      ]
    },
    {
      "cell_type": "markdown",
      "source": [
        "###**Implementação e Testes**\n",
        "\n",
        "Implementaremos o modelo final e testaremos sua capacidade de prever novos dados de forma precisa.\n"
      ],
      "metadata": {
        "id": "zo8BkQ3KFhH9"
      }
    },
    {
      "cell_type": "code",
      "source": [
        "# Função para pré-processar os dados da pessoa específica.\n",
        "# Parâmetros:\n",
        "  # person_data: um DataFrame contendo os dados da pessoa específica.\n",
        "  # objeto StandardScaler ajustado aos dados de treinamento.\n",
        "  # columns: as colunas que o modelo espera.\n",
        "def preprocess_data(person_data, scaler, columns):\n",
        "\n",
        "    # Certificar-se de que person_data é um DataFrame e contém todas as colunas esperadas\n",
        "    person_data = pd.DataFrame([person_data])\n",
        "    person_data = person_data[columns]\n",
        "\n",
        "    # Aplicar o scaler aos dados da pessoa\n",
        "    person_data_scaled = scaler.transform(person_data)\n",
        "\n",
        "    # Retorna: DataFrame pré-processado.\n",
        "    return person_data_scaled\n",
        "\n",
        "# Função para prever a saúde mental de uma pessoa específica usando um modelo RandomForest treinado.\n",
        "# Parâmetros:\n",
        "  # model: o modelo RandomForestClassifier treinado.\n",
        "  # person_data: um dicionário ou DataFrame contendo os dados da pessoa específica.\n",
        "  # scaler: objeto StandardScaler ajustado aos dados de treinamento.\n",
        "  # columns: as colunas que o modelo espera.\n",
        "def prever_mental_health(model, person_data, scaler, columns):\n",
        "\n",
        "    # Se person_data for uma Series, convertê-la para um DataFrame\n",
        "    if isinstance(person_data, pd.Series):\n",
        "        person_data = person_data.to_dict()\n",
        "\n",
        "    # Pré-processar os dados da pessoa\n",
        "    person_data_scaled = preprocess_data(person_data, scaler, columns)\n",
        "\n",
        "    # Fazer a previsão nominal\n",
        "    predicted_class = model.predict(person_data_scaled)[0]\n",
        "\n",
        "    # Obter as probabilidades das classes\n",
        "    predicted_probabilities = model.predict_proba(person_data_scaled)[0]\n",
        "\n",
        "\n",
        "    # Retorna: Um dicionário contendo a classe prevista e as probabilidades das classes.\n",
        "    return {\n",
        "        'predicted_class': predicted_class,\n",
        "        'predicted_probabilities': predicted_probabilities\n",
        "    }\n",
        "\n",
        "# Exemplo de uso\n",
        "# Dados de uma pessoa no DataFrame\n",
        "user_index = 484  # Substitua pelo índice da pessoa desejada\n",
        "\n",
        "person_data = data.iloc[user_index]\n",
        "\n",
        "# Assegure-se de que 'columns' contenha as colunas na ordem correta\n",
        "columns = X.columns.tolist()\n",
        "\n",
        "# Previsão para a primeira pessoa\n",
        "resultado = prever_mental_health(model, person_data, scaler, columns)\n",
        "print(f\"A previsão de saúde mental para essa pessoa é: {resultado['predicted_class']}\")\n",
        "\n",
        "map_target = {\n",
        "    0: 'Talvez',   # 0 = Talvez\n",
        "    1: 'Não',      # 1 = Não\n",
        "    2: 'Sim'       # 2 = Sim\n",
        "}\n",
        "\n",
        "for index, probability in enumerate(resultado['predicted_probabilities']):\n",
        "  print(f\"A probabilidade para {index} - {map_target.get(index)} é: {100 * probability:.2f}%\")\n"
      ],
      "metadata": {
        "id": "4U2DODsnnqIL",
        "colab": {
          "base_uri": "https://localhost:8080/"
        },
        "outputId": "1278f2b0-dbe1-4391-c36f-0ff752662471"
      },
      "execution_count": 176,
      "outputs": [
        {
          "output_type": "stream",
          "name": "stdout",
          "text": [
            "A previsão de saúde mental para essa pessoa é: 0\n",
            "A probabilidade para 0 - Talvez é: 50.00%\n",
            "A probabilidade para 1 - Não é: 33.00%\n",
            "A probabilidade para 2 - Sim é: 17.00%\n"
          ]
        },
        {
          "output_type": "stream",
          "name": "stderr",
          "text": [
            "/usr/local/lib/python3.10/dist-packages/sklearn/base.py:439: UserWarning: X does not have valid feature names, but RandomForestClassifier was fitted with feature names\n",
            "  warnings.warn(\n",
            "/usr/local/lib/python3.10/dist-packages/sklearn/base.py:439: UserWarning: X does not have valid feature names, but RandomForestClassifier was fitted with feature names\n",
            "  warnings.warn(\n"
          ]
        }
      ]
    },
    {
      "cell_type": "code",
      "source": [
        "display(dataset.iloc[user_index])"
      ],
      "metadata": {
        "id": "FWuLeY7uZjQE",
        "colab": {
          "base_uri": "https://localhost:8080/",
          "height": 329
        },
        "outputId": "2c3ac5e1-bdf4-4c25-9c42-7ed9c39585b2"
      },
      "execution_count": 177,
      "outputs": [
        {
          "output_type": "display_data",
          "data": {
            "text/plain": [
              "Timestamp                  8/27/2014 11:29\n",
              "Gender                              Female\n",
              "Country                      United States\n",
              "Occupation                         Student\n",
              "self_employed                          NaN\n",
              "family_history                          No\n",
              "treatment                              Yes\n",
              "Days_Indoors                     1-14 days\n",
              "Growing_Stress                         Yes\n",
              "Changes_Habits                       Maybe\n",
              "Mental_Health_History                Maybe\n",
              "Mood_Swings                           High\n",
              "Coping_Struggles                        No\n",
              "Work_Interest                           No\n",
              "Social_Weakness                        Yes\n",
              "mental_health_interview                 No\n",
              "care_options                      Not sure\n",
              "Name: 484, dtype: object"
            ]
          },
          "metadata": {}
        }
      ]
    },
    {
      "cell_type": "code",
      "source": [
        "# Encontrar o primeiro índice onde a coluna Mental_Health_History seja 0\n",
        "first_index = data.loc[data['Mental_Health_History'] == 0].index[0]\n",
        "\n",
        "# Exibir o índice encontrado\n",
        "print(f\"O primeiro índice onde 'Mental_Health_History' é 0 é: {first_index}\")\n"
      ],
      "metadata": {
        "colab": {
          "base_uri": "https://localhost:8080/"
        },
        "id": "mBXS0R1yuCbc",
        "outputId": "c6171fd4-91ad-4a9b-a779-e9ff1facaaca"
      },
      "execution_count": 174,
      "outputs": [
        {
          "output_type": "stream",
          "name": "stdout",
          "text": [
            "O primeiro índice onde 'Mental_Health_History' é 0 é: 484\n"
          ]
        }
      ]
    },
    {
      "cell_type": "code",
      "source": [
        "# Area de teste manual\n",
        "columns = [\n",
        "    'Timestamp', 'Gender', 'Country', 'Occupation', 'self_employed',\n",
        "    'family_history', 'treatment', 'Days_Indoors', 'Growing_Stress',\n",
        "    'Changes_Habits', 'Mental_Health_History', 'Mood_Swings',\n",
        "    'Coping_Struggles', 'Work_Interest', 'Social_Weakness',\n",
        "    'mental_health_interview', 'care_options'\n",
        "]\n",
        "\n",
        "for column in columns:\n",
        "    print(f\"{column}: \")"
      ],
      "metadata": {
        "colab": {
          "base_uri": "https://localhost:8080/"
        },
        "id": "e6s2ljwvn0gI",
        "outputId": "53a63bbb-efaa-4b2e-b65c-c34ff4aa1457"
      },
      "execution_count": 175,
      "outputs": [
        {
          "output_type": "stream",
          "name": "stdout",
          "text": [
            "Timestamp: \n",
            "Gender: \n",
            "Country: \n",
            "Occupation: \n",
            "self_employed: \n",
            "family_history: \n",
            "treatment: \n",
            "Days_Indoors: \n",
            "Growing_Stress: \n",
            "Changes_Habits: \n",
            "Mental_Health_History: \n",
            "Mood_Swings: \n",
            "Coping_Struggles: \n",
            "Work_Interest: \n",
            "Social_Weakness: \n",
            "mental_health_interview: \n",
            "care_options: \n"
          ]
        }
      ]
    }
  ]
}